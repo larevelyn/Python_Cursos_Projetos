{
 "cells": [
  {
   "cell_type": "markdown",
   "metadata": {},
   "source": [
    "<h1>Exercício 28 – Jogo da Adivinhação</h1>\n",
    "<p>Escreva um programa que faça o computador “pensar” em um número inteiro entre 0 e 5 e peça para o usuário tentar descobrir qual foi o número escolhido pelo computador. O programa deverá escrever na tela se o usuário venceu ou perdeu.</p>"
   ]
  },
  {
   "cell_type": "code",
   "execution_count": 10,
   "metadata": {},
   "outputs": [],
   "source": [
    "import random\n",
    "from time import sleep"
   ]
  },
  {
   "cell_type": "code",
   "execution_count": null,
   "metadata": {},
   "outputs": [
    {
     "name": "stdout",
     "output_type": "stream",
     "text": [
      "Você errou! O numero correto era 5\n"
     ]
    }
   ],
   "source": [
    "num = random.randint(1, 5)\n",
    "\n",
    "meu_num = int(input('Digite o numero que você acha que é: '))\n",
    "sleep(2) #Guanabara - Faz esperar por 2 segundos antes de continuar\n",
    "if meu_num == num:\n",
    "    print(f'Parabéns você acertou, {num} é o numero correto!')\n",
    "else: \n",
    "    print(f'Você errou! O numero correto era {num}')"
   ]
  },
  {
   "cell_type": "markdown",
   "metadata": {},
   "source": [
    "<h1>Exercício 29 – Radar eletrônico</h1>\n",
    "<p>Escreva um programa que leia a velocidade de um carro. Se ele ultrapassar 80Km/h, mostre uma mensagem dizendo que ele foi multado. A multa vai custar R$7,00 por cada Km acima do limite.</p>"
   ]
  },
  {
   "cell_type": "code",
   "execution_count": null,
   "metadata": {},
   "outputs": [
    {
     "name": "stdout",
     "output_type": "stream",
     "text": [
      "Você foi multado, o valor que você deverá pagar é de: 140 reais de multa\n"
     ]
    }
   ],
   "source": [
    "velocidade = int(input('Qual a velocidade?'))\n",
    "if velocidade >= 80:\n",
    "    multa = (velocidade - 80) * 7\n",
    "    print(f'Você foi multado, o valor que você deverá pagar é de: {multa} reais ')\n",
    "else: \n",
    "    print('Você estava dentro do limite, logo, não foi multado')\n"
   ]
  },
  {
   "cell_type": "markdown",
   "metadata": {},
   "source": [
    "<h1>Exercício 30 – Par ou Ímpar?</h1>\n",
    "\n",
    "<p>Crie um programa que leia um número inteiro e mostre na tela se ele é PAR ou ÍMPAR.</p>"
   ]
  },
  {
   "cell_type": "code",
   "execution_count": 6,
   "metadata": {},
   "outputs": [
    {
     "name": "stdout",
     "output_type": "stream",
     "text": [
      "O número 967 é impar\n"
     ]
    }
   ],
   "source": [
    "num = int(input('Digite um numero: '))\n",
    "\n",
    "div = num % 2\n",
    "\n",
    "if div == 0:\n",
    "    print(f'O número {num} é par')\n",
    "else: \n",
    "    print(f'O número {num} é impar')"
   ]
  },
  {
   "cell_type": "markdown",
   "metadata": {},
   "source": [
    "<h1>Exercício 31 – Custo da Viagem</h1>\n",
    "\n",
    "<p>Desenvolva um programa que pergunte a distância de uma viagem em Km. Calcule o preço da passagem, cobrando R$0,50 por Km para viagens de até 200Km e R$0,45 parta viagens mais longas.</p>"
   ]
  },
  {
   "cell_type": "code",
   "execution_count": 12,
   "metadata": {},
   "outputs": [
    {
     "name": "stdout",
     "output_type": "stream",
     "text": [
      "Sua passagem vai custar 450.0 reais\n"
     ]
    }
   ],
   "source": [
    "dist = float(input('Qual a distância da sua viagem? '))\n",
    "if dist >= 200:\n",
    "    custo = 0.45\n",
    "else: \n",
    "    custo = 0.50\n",
    "preco = dist * custo\n",
    "print(f'Sua passagem vai custar {preco} reais')"
   ]
  },
  {
   "cell_type": "markdown",
   "metadata": {},
   "source": [
    "<h1>Exercício 32 – Ano Bissexto</h1>\n",
    "\n",
    "<p>Faça um programa que leia um ano qualquer e mostre se ele é bissexto.</p>\n",
    "<b>Exercicio não resolvido</b>"
   ]
  },
  {
   "cell_type": "code",
   "execution_count": 6,
   "metadata": {},
   "outputs": [
    {
     "name": "stdout",
     "output_type": "stream",
     "text": [
      "O ano 2025 não é bisexto\n"
     ]
    }
   ],
   "source": [
    "from datetime import date\n",
    "\n",
    "ano = int(input('Que ano quer analisar? Coloque 0 para analisar o ano atual'))\n",
    "\n",
    "if ano == 0:\n",
    "    ano = date.today().year\n",
    "if ano % 4 == 0 and ano % 100 != 0 or ano % 400 == 0:\n",
    "    print(f'O ano {ano} é bissexto')\n",
    "else:\n",
    "    print(f'O ano {ano} não é bisexto')"
   ]
  },
  {
   "cell_type": "markdown",
   "metadata": {},
   "source": [
    "<h1>Exercício Python 33: </h1>\n",
    "\n",
    "Faça um programa que leia três números e mostre qual é o maior e qual é o menor."
   ]
  },
  {
   "cell_type": "code",
   "execution_count": 9,
   "metadata": {},
   "outputs": [
    {
     "name": "stdout",
     "output_type": "stream",
     "text": [
      "O maior número é: 69\n",
      "O menor número é: 4\n"
     ]
    }
   ],
   "source": [
    "# Sem usar estrutura de decisão\n",
    "n1 = int(input('Digite o primeiro número'))\n",
    "n2 = int(input('Digite o segundo número'))\n",
    "n3 = int(input('Digite o terceiro número'))\n",
    "\n",
    "n = [n1, n2, n3]\n",
    "\n",
    "maior = max(n)\n",
    "\n",
    "menor = min(n)\n",
    "print(f'O maior número é: {maior}')\n",
    "print(f'O menor número é: {menor}')"
   ]
  },
  {
   "cell_type": "code",
   "execution_count": 11,
   "metadata": {},
   "outputs": [
    {
     "name": "stdout",
     "output_type": "stream",
     "text": [
      "O maior número é: 4\n",
      "O menor número é: 69\n"
     ]
    }
   ],
   "source": [
    "# Guanabara - usando estrutura de decisão\n",
    "a = n1\n",
    "b = n2\n",
    "c = n3\n",
    "menor = a\n",
    "# Verificando o menor \n",
    "if b < a and b < c:\n",
    "    menor = b\n",
    "if c < a and c < b:\n",
    "    maior = c\n",
    "# Verificando o maior \n",
    "if b > a and b > c:\n",
    "    menor = b\n",
    "if c > a and c > b:\n",
    "    menor = c\n",
    "\n",
    "print(f'O maior número é: {maior}')\n",
    "print(f'O menor número é: {menor}')"
   ]
  },
  {
   "cell_type": "markdown",
   "metadata": {},
   "source": [
    "<h1>Exercício 34 – Aumentos múltiplos</h1>\n",
    "\n",
    "<p>Exercício Python 34: Escreva um programa que pergunte o salário de um funcionário e calcule o valor do seu aumento. Para salários superiores a R$1250,00, calcule um aumento de 10%. Para os inferiores ou iguais, o aumento é de 15%.T</p>"
   ]
  },
  {
   "cell_type": "code",
   "execution_count": 14,
   "metadata": {},
   "outputs": [
    {
     "name": "stdout",
     "output_type": "stream",
     "text": [
      "Seu novo salário será: 11000.0\n"
     ]
    }
   ],
   "source": [
    "sal = float(input('Digite o seu salário'))\n",
    "\n",
    "if sal >= 1250.00:\n",
    "    perc = 1.1\n",
    "else:\n",
    "    perc = 1.15\n",
    "\n",
    "novo_sal = sal * perc\n",
    "print(f'Seu novo salário será: {novo_sal}')"
   ]
  },
  {
   "cell_type": "markdown",
   "metadata": {},
   "source": [
    "<h1>Exercício 35 – Analisando Triângulo</h1>\n",
    "\n",
    "<p>Desenvolva um programa que leia o comprimento de três retas e diga ao usuário se elas podem ou não formar um triângulo.</p>"
   ]
  },
  {
   "cell_type": "code",
   "execution_count": 21,
   "metadata": {},
   "outputs": [
    {
     "name": "stdout",
     "output_type": "stream",
     "text": [
      "Os segmentos NÂO PODEM FORMAR um triângulo\n"
     ]
    }
   ],
   "source": [
    "a = int(input('Digite o tamanho da primeira reta'))\n",
    "b = int(input('Digite o tamanho da segunda reta'))\n",
    "c = int(input('Digite o tamanho da terceira reta'))\n",
    "\n",
    "if (a + b > c) and (a + c > b) and (b + c > a):\n",
    "    print('Os segmentos PODEM FORMAR um triângulo')\n",
    "else:\n",
    "    print('Os segmentos NÂO PODEM FORMAR um triângulo')"
   ]
  },
  {
   "cell_type": "code",
   "execution_count": 34,
   "metadata": {},
   "outputs": [
    {
     "data": {
      "text/plain": [
       "15"
      ]
     },
     "execution_count": 34,
     "metadata": {},
     "output_type": "execute_result"
    }
   ],
   "source": [
    "7+8"
   ]
  }
 ],
 "metadata": {
  "kernelspec": {
   "display_name": "Python 3",
   "language": "python",
   "name": "python3"
  },
  "language_info": {
   "codemirror_mode": {
    "name": "ipython",
    "version": 3
   },
   "file_extension": ".py",
   "mimetype": "text/x-python",
   "name": "python",
   "nbconvert_exporter": "python",
   "pygments_lexer": "ipython3",
   "version": "3.11.9"
  }
 },
 "nbformat": 4,
 "nbformat_minor": 2
}
