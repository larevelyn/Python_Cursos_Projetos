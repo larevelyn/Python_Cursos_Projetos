{
 "cells": [
  {
   "cell_type": "code",
   "execution_count": 6,
   "metadata": {},
   "outputs": [
    {
     "name": "stdout",
     "output_type": "stream",
     "text": [
      "Seu nome em maiúsculo é: LARISSA EVELYN DOS SANTOS BALBINO\n",
      "Seu nome em minúsculo é: larissa evelyn dos santos balbino\n",
      "Seu nome tem 29 letras.\n",
      "Seu primeiro nome é Larissa e tem 7 letras.\n"
     ]
    }
   ],
   "source": [
    "# Exercicio 22 -  Analisador de textos\n",
    "# nome = input('Digite seu nome completo: ')\n",
    "nome = 'Larissa Evelyn dos Santos Balbino'\n",
    "# -----------------------------------------------------\n",
    "# Convertendo nome em maisculo e minusculo \n",
    "nome_mausculo = nome.upper()\n",
    "nome_minusculo = nome.lower()\n",
    "\n",
    "print(f'Seu nome em maiúsculo é: {nome_mausculo}')\n",
    "print(f'Seu nome em minúsculo é: {nome_minusculo}')\n",
    "# ---------------------------------------------------\n",
    "# Verificando tamanho do nome e desconsiderando os espaços\n",
    "tamanho_nome = len(nome)\n",
    "cont = nome.count(' ')\n",
    "quantidade_nome = tamanho_nome - cont\n",
    "\n",
    "print(f'Seu nome tem {quantidade_nome} letras.')\n",
    "# ---------------------------------------------------\n",
    "# Verificando primeiro nome e quantas letras tem\n",
    "substrings_nome = nome.split()\n",
    "primeiro_nome = len(substrings_nome[0])\n",
    "\n",
    "print(f'Seu primeiro nome é {substrings_nome[0]} e tem {primeiro_nome} letras.')\n"
   ]
  },
  {
   "cell_type": "code",
   "execution_count": null,
   "metadata": {},
   "outputs": [],
   "source": []
  },
  {
   "cell_type": "code",
   "execution_count": null,
   "metadata": {},
   "outputs": [],
   "source": []
  }
 ],
 "metadata": {
  "kernelspec": {
   "display_name": "Python 3",
   "language": "python",
   "name": "python3"
  },
  "language_info": {
   "codemirror_mode": {
    "name": "ipython",
    "version": 3
   },
   "file_extension": ".py",
   "mimetype": "text/x-python",
   "name": "python",
   "nbconvert_exporter": "python",
   "pygments_lexer": "ipython3",
   "version": "3.11.9"
  }
 },
 "nbformat": 4,
 "nbformat_minor": 2
}
