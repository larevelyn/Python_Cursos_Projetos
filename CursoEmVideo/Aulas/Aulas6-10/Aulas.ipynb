{
 "cells": [
  {
   "cell_type": "markdown",
   "metadata": {},
   "source": [
    "<h1>Aula 9</h1>"
   ]
  },
  {
   "cell_type": "code",
   "execution_count": 2,
   "metadata": {},
   "outputs": [
    {
     "name": "stdout",
     "output_type": "stream",
     "text": [
      "Numero de caracteres: 13\n"
     ]
    }
   ],
   "source": [
    "# Aula 9\n",
    "# len()\n",
    "# Retorna o número de itens em um objeto, como uma lista ou string.\n",
    "texto = \"Hello, World!\"\n",
    "tamanho = len(texto)\n",
    "print(\"Numero de caracteres:\", tamanho)  # Saída: 13\n"
   ]
  },
  {
   "cell_type": "code",
   "execution_count": 4,
   "metadata": {},
   "outputs": [
    {
     "name": "stdout",
     "output_type": "stream",
     "text": [
      "A letra A aparece 3 vezes\n"
     ]
    }
   ],
   "source": [
    "# count()\n",
    "# Conta o número de ocorrências de um valor específico em uma string ou lista.\n",
    "texto = \"banana\"\n",
    "contagem = texto.count('a')\n",
    "print(\"A letra A aparece\", contagem, \"vezes\")  # Saída: 3\n"
   ]
  },
  {
   "cell_type": "code",
   "execution_count": 7,
   "metadata": {},
   "outputs": [
    {
     "name": "stdout",
     "output_type": "stream",
     "text": [
      "A palavra World começa em: 7\n"
     ]
    }
   ],
   "source": [
    "# find()\n",
    "# Retorna o índice da primeira ocorrência de uma substring em uma string. Retorna -1 se não encontrar.\n",
    "texto = \"Hello, World!\"\n",
    "indice = texto.find('World')\n",
    "print(\"A palavra World começa em:\", indice)  # Saída: 7"
   ]
  },
  {
   "cell_type": "code",
   "execution_count": 5,
   "metadata": {},
   "outputs": [
    {
     "name": "stdout",
     "output_type": "stream",
     "text": [
      "Exemplo var: True\n",
      "Exemplo list:  True\n"
     ]
    }
   ],
   "source": [
    "# in\n",
    "# Verifica se um valor está presente em uma sequência (string, lista, etc.).\n",
    "\n",
    "texto = \"Hello, World!\"\n",
    "existe = 'World' in texto\n",
    "print(\"Exemplo var:\", existe)  # Saída: True\n",
    "\n",
    "# Exemplo de in e list\n",
    "numeros = [1, 2, 3, 4, 5]\n",
    "\n",
    "teste_list = 3 in numeros\n",
    "print(\"Exemplo list: \",teste_list) # Saída: True\n"
   ]
  },
  {
   "cell_type": "code",
   "execution_count": 12,
   "metadata": {},
   "outputs": [
    {
     "name": "stdout",
     "output_type": "stream",
     "text": [
      "Hello, World!\n",
      "Hello, Python!\n"
     ]
    }
   ],
   "source": [
    "# replace()\n",
    "# Substitui uma substring por outra em uma string.\n",
    "texto = \"Hello, World!\"\n",
    "novo_texto = texto.replace('World', 'Python')\n",
    "print(texto)\n",
    "print(novo_texto)  # Saída: Hello, Python!"
   ]
  },
  {
   "cell_type": "code",
   "execution_count": 15,
   "metadata": {},
   "outputs": [
    {
     "name": "stdout",
     "output_type": "stream",
     "text": [
      "Hello, World!\n",
      "HELLO, WORLD!\n"
     ]
    }
   ],
   "source": [
    "# upper()\n",
    "# Converte todos os caracteres de uma string para maiúsculas.\n",
    "\n",
    "texto = \"Hello, World!\"\n",
    "texto_maiusculo = texto.upper()\n",
    "print(texto)\n",
    "print(texto_maiusculo)  # Saída: HELLO, WORLD!"
   ]
  },
  {
   "cell_type": "code",
   "execution_count": 16,
   "metadata": {},
   "outputs": [
    {
     "name": "stdout",
     "output_type": "stream",
     "text": [
      "hello, world!\n"
     ]
    }
   ],
   "source": [
    "# lower()\n",
    "# Converte todos os caracteres de uma string para minúsculas.\n",
    "\n",
    "texto = \"Hello, World!\"\n",
    "texto_minusculo = texto.lower()\n",
    "print(texto_minusculo)  # Saída: hello, world!"
   ]
  },
  {
   "cell_type": "code",
   "execution_count": 23,
   "metadata": {},
   "outputs": [
    {
     "name": "stdout",
     "output_type": "stream",
     "text": [
      "Entrada: hello world!\n",
      "Saida: Hello world!\n"
     ]
    }
   ],
   "source": [
    "# capitalize()\n",
    "# Converte o primeiro caractere da string para maiúsculo e o restante para minúsculo.\n",
    "texto = \"hello, world!\"\n",
    "texto_capitalizado = texto.capitalize()\n",
    "print(f'Entrada: {texto}')\n",
    "print(f'Saida: {texto_capitalizado}')  # Saída: Hello, world!"
   ]
  },
  {
   "cell_type": "code",
   "execution_count": 24,
   "metadata": {},
   "outputs": [
    {
     "name": "stdout",
     "output_type": "stream",
     "text": [
      "Entrada: hello, world!\n",
      "Saida: Hello, World!\n"
     ]
    }
   ],
   "source": [
    "# title()\n",
    "# Converte o primeiro caractere de cada palavra da string para maiúsculo.\n",
    "texto = \"hello, world!\"\n",
    "texto_titulo = texto.title()\n",
    "print(f'Entrada: {texto}')\n",
    "print(f'Saida: {texto_titulo}')  # Saída: Hello, World!"
   ]
  },
  {
   "cell_type": "code",
   "execution_count": 28,
   "metadata": {},
   "outputs": [
    {
     "name": "stdout",
     "output_type": "stream",
     "text": [
      "Entrada:     Hello, World!   \n",
      "Saida: Hello, World!\n"
     ]
    }
   ],
   "source": [
    "# strip()\n",
    "# Remove espaços em branco no início e no final da string.\n",
    "\n",
    "texto = \"   Hello, World!   \"\n",
    "texto_strip = texto.strip()\n",
    "print(\"Entrada: \", texto)\n",
    "print(\"Saida:\", texto_strip)  # Saída: Hello, World!\n"
   ]
  },
  {
   "cell_type": "code",
   "execution_count": 30,
   "metadata": {},
   "outputs": [
    {
     "name": "stdout",
     "output_type": "stream",
     "text": [
      "Entrada:    Hello, World!\n",
      "Saida:    Hello, World!\n"
     ]
    }
   ],
   "source": [
    "# rstrip()\n",
    "# Remove espaços em branco no final da string.\n",
    "\n",
    "texto = \"   Hello, World!   \"\n",
    "texto_rstrip = texto.rstrip()\n",
    "print(\"Entrada:\", texto_rstrip) \n",
    "print(\"Saida:\", texto_rstrip)  # Saída: \"   Hello, World!\""
   ]
  },
  {
   "cell_type": "code",
   "execution_count": null,
   "metadata": {},
   "outputs": [],
   "source": [
    "# strip()\n",
    "# Remove espaços em branco no início da string.\n",
    "\n",
    "texto = \"   Hello, World!   \"\n",
    "texto_lstrip = texto.lstrip()\n",
    "print(\"lstrip():\", texto_lstrip)  # Saída: Hello, World!   "
   ]
  },
  {
   "cell_type": "code",
   "execution_count": 31,
   "metadata": {},
   "outputs": [
    {
     "name": "stdout",
     "output_type": "stream",
     "text": [
      "split(): ['apple', 'banana', 'cherry']\n"
     ]
    }
   ],
   "source": [
    "#split()\n",
    "# Divide uma string em uma lista de substrings com base em um delimitador.\n",
    "\n",
    "texto = \"apple banana cherry\"\n",
    "substrings = texto.split()\n",
    "print(\"split():\", substrings)  # Saída: ['apple', 'banana', 'cherry']"
   ]
  },
  {
   "cell_type": "code",
   "execution_count": 1,
   "metadata": {},
   "outputs": [
    {
     "name": "stdout",
     "output_type": "stream",
     "text": [
      "join(): apple, banana, cherry\n"
     ]
    }
   ],
   "source": [
    "# Função join()\n",
    "# Junta uma lista de substrings em uma única string, usando um delimitador.\n",
    "\n",
    "substrings = ['apple', 'banana', 'cherry']\n",
    "texto_junto = ', '.join(substrings)\n",
    "print(\"join():\", texto_junto)  # Saída: apple, banana, cherry"
   ]
  },
  {
   "cell_type": "markdown",
   "metadata": {},
   "source": []
  }
 ],
 "metadata": {
  "kernelspec": {
   "display_name": "Python 3",
   "language": "python",
   "name": "python3"
  },
  "language_info": {
   "codemirror_mode": {
    "name": "ipython",
    "version": 3
   },
   "file_extension": ".py",
   "mimetype": "text/x-python",
   "name": "python",
   "nbconvert_exporter": "python",
   "pygments_lexer": "ipython3",
   "version": "3.11.9"
  }
 },
 "nbformat": 4,
 "nbformat_minor": 2
}
