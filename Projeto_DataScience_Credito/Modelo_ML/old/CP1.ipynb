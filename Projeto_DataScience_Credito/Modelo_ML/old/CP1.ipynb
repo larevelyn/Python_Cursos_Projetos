{
 "cells": [
  {
   "cell_type": "code",
   "execution_count": null,
   "metadata": {},
   "outputs": [],
   "source": [
    "import pandas as pd\n",
    "import numpy as np\n",
    "import matplotlib.pyplot as plt \n",
    "from sklearn.cluster import KMeans\n",
    "import csv\n",
    "import openpyxl"
   ]
  },
  {
   "cell_type": "code",
   "execution_count": null,
   "metadata": {},
   "outputs": [],
   "source": [
    "# ignorar avisos\n",
    "import warnings\n",
    "# Suprimir apenas o SettingWithCopyWarning\n",
    "warnings.filterwarnings('ignore')"
   ]
  },
  {
   "cell_type": "code",
   "execution_count": null,
   "metadata": {},
   "outputs": [],
   "source": [
    "solicitacoes_credito = pd.read_csv('Arquivos/solicitacoescredito.csv')\n",
    "\n",
    "solicitacoes_credito.head()"
   ]
  },
  {
   "cell_type": "code",
   "execution_count": null,
   "metadata": {},
   "outputs": [],
   "source": [
    "\n",
    "# solicitacoes = solicitacoes_credito[['razaoSocial', 'nomeFantasia', 'cnpjSemTraco', 'margemBrutaAcumulada', 'maiorAtraso','percentualProtestos','primeiraCompra','prazoMedioRecebimentoVendas','titulosEmAberto','valorSolicitado','valorAprovado','dataAprovadoEmComite','ativoCirculante','passivoCirculante','totalAtivo','totalPatrimonioLiquido','endividamento','faturamentoBruto','margemBruta','custos','anoFundacao','intervaloFundacao','capitalSocial','restricoes','scorePontualidade','limiteEmpresaAnaliseCredito'\n",
    "\n",
    "# clientes = solicitacoes_credito[['cnpjSemTraco','faturamentoBruto', 'intervaloFundacao', 'empresa_MeEppMei', 'endividamento', 'maiorAtraso', 'restricoes','scorePontualidade']]\n",
    "\n",
    "# clientes = solicitacoes_credito[['faturamentoBruto', 'anoFundacao', 'maiorAtraso', 'restricoes']]\n",
    "\n",
    "# clientes['TempoDeExistencia'] = 2024 - clientes['anoFundacao']\n",
    "\n",
    "clientes = solicitacoes_credito[['faturamentoBruto', 'anoFundacao', 'maiorAtraso', 'restricoes']]\n",
    "\n",
    "clientes\n"
   ]
  },
  {
   "cell_type": "code",
   "execution_count": null,
   "metadata": {},
   "outputs": [],
   "source": [
    "clientes1 = clientes.drop_duplicates()\n",
    "\n",
    "display(clientes1)"
   ]
  },
  {
   "cell_type": "code",
   "execution_count": null,
   "metadata": {},
   "outputs": [],
   "source": [
    "clientes2 = clientes1.dropna(subset=['faturamentoBruto'])\n",
    "clientes2.head()\n",
    "clientes2\n"
   ]
  },
  {
   "cell_type": "code",
   "execution_count": null,
   "metadata": {},
   "outputs": [],
   "source": [
    "clientes2 = clientes2.drop(columns=['anoFundacao'])\n",
    "\n",
    "clientes2\n"
   ]
  },
  {
   "cell_type": "code",
   "execution_count": null,
   "metadata": {},
   "outputs": [],
   "source": [
    "# clientes3 = clientes1[clientes1['faturamentoBruto'] <= 1]\n",
    "clientes3 = clientes2\n",
    "clientes3.head()\n",
    "# clientes3\n"
   ]
  },
  {
   "cell_type": "code",
   "execution_count": null,
   "metadata": {},
   "outputs": [],
   "source": [
    "# clientes3.endividamento.value_counts(dropna=False)\n",
    "\n",
    "# filtra quando nulos, similar a select * from clientes3 where endividamento isnull\n",
    "clientesNAN = clientes3.loc[clientes3.faturamentoBruto.isnull()]\n",
    "clientesNAN"
   ]
  },
  {
   "cell_type": "code",
   "execution_count": null,
   "metadata": {},
   "outputs": [],
   "source": [
    "# # Filtra os clientes com scorePontualidade igual a 1\n",
    "# # teste_clientes2 = clientes3.loc[clientes3['scorePontualidade'] == 1]\n",
    "\n",
    "# # Encontra o cliente com a menor quantidade de dias de atraso\n",
    "# cliente_min_atraso = teste_clientes2.loc[teste_clientes2['maiorAtraso'].idxmin()]\n",
    "\n",
    "# # Encontra o cliente com a maior quantidade de dias de atraso\n",
    "# cliente_max_atraso = teste_clientes2.loc[teste_clientes2['maiorAtraso'].idxmax()]\n",
    "\n",
    "# # Exibe os resultados\n",
    "# print(\"Cliente com menor atraso:\")\n",
    "# display(cliente_min_atraso[['cnpjSemTraco','maiorAtraso']])\n",
    "\n",
    "# print(\"\\nCliente com maior atraso:\")\n",
    "# print(cliente_max_atraso[['cnpjSemTraco','maiorAtraso']])"
   ]
  },
  {
   "cell_type": "code",
   "execution_count": null,
   "metadata": {},
   "outputs": [],
   "source": [
    "# clientes3.endividamento = clientes3.endividamento.fillna(0)\n",
    "# clientes3.loc[pd.isnull(clientes3.endividamento), 'endividamento'] = 0  \n",
    "# clientes3['anoFundacao'] = clientes3['anoFundacao'].astype(int)\n",
    "\n",
    "display(clientes3)"
   ]
  },
  {
   "cell_type": "markdown",
   "metadata": {},
   "source": [
    "# A partir daqui começa a Clusterização\n",
    "# \n",
    "# Referencia: https://www.youtube.com/watch?v=GBSTT5NBE4g"
   ]
  },
  {
   "cell_type": "code",
   "execution_count": null,
   "metadata": {},
   "outputs": [],
   "source": [
    "# Trazendo percentual de pontuação \n",
    "# clientes3.scorePontualidade.value_counts() / clientes3.shape[0]\n",
    "\n",
    "# Trazendo os clintes com score abaixo de 1 \n",
    "# clientes3[clientes3['scorePontualidade'] < 1]['scorePontualidade'].value_counts()\n",
    "\n",
    "# Traz quantos valores estão nulos\n",
    "# clientes3.scorePontualidade.value_counts(dropna=False)"
   ]
  },
  {
   "cell_type": "code",
   "execution_count": null,
   "metadata": {},
   "outputs": [],
   "source": [
    "# transformar todos os dados não numericos em numericos fazendo que as linhas virem colunas\n",
    "clientes_dummies = pd.get_dummies(clientes3)\n",
    "clientes_dummies.head()"
   ]
  },
  {
   "cell_type": "code",
   "execution_count": null,
   "metadata": {},
   "outputs": [],
   "source": [
    "# Ele soma todos os que são 1 ou true \n",
    "clientes_dummies.sum(axis=1)"
   ]
  },
  {
   "cell_type": "code",
   "execution_count": null,
   "metadata": {},
   "outputs": [],
   "source": [
    "# Dividindo todas as linhas pela soma delas \n",
    "X = clientes_dummies.div(clientes_dummies.sum(axis=1), axis='rows')\n",
    "# X = clientes_dummies.sum(axis=1)\n",
    "X.head()"
   ]
  },
  {
   "cell_type": "code",
   "execution_count": null,
   "metadata": {},
   "outputs": [],
   "source": [
    "# Agrupamento\n",
    "km = KMeans(n_clusters=8)\n",
    "km.fit_predict(X)"
   ]
  },
  {
   "cell_type": "code",
   "execution_count": null,
   "metadata": {},
   "outputs": [],
   "source": [
    "# Descobrindo qual o melhor numero de clusters(cotovelo)\n",
    "distorcions = []\n",
    "n_clusters = range(2, 15)\n",
    "for n_cluster2 in n_clusters:\n",
    "    print(n_cluster2)\n",
    "    distorcions.append(KMeans(n_clusters=n_cluster2, max_iter=10_000, n_init=100, random_state=61658).fit(X).inertia_)\n"
   ]
  },
  {
   "cell_type": "code",
   "execution_count": null,
   "metadata": {},
   "outputs": [],
   "source": [
    "distorcions\n"
   ]
  },
  {
   "cell_type": "code",
   "execution_count": null,
   "metadata": {},
   "outputs": [],
   "source": [
    "plt.figure(figsize=(15,5))\n",
    "plt.plot(n_clusters, distorcions)\n",
    "plt.grid\n",
    "# Aqui, consideramos o ultimo \"cotovelo\" que no caso é o 4"
   ]
  },
  {
   "cell_type": "code",
   "execution_count": null,
   "metadata": {},
   "outputs": [],
   "source": [
    "km = KMeans(n_clusters=4, max_iter=10_000, n_init=100, random_state=61658)\n",
    "X_t = km.fit_predict(X)\n",
    "X_t\n"
   ]
  },
  {
   "cell_type": "code",
   "execution_count": null,
   "metadata": {},
   "outputs": [],
   "source": [
    "clientes4 = clientes3\n",
    "clientes4.loc[:, 'cluster'] = X_t\n",
    "clientes4\n"
   ]
  },
  {
   "cell_type": "code",
   "execution_count": null,
   "metadata": {},
   "outputs": [],
   "source": [
    "clientes4.loc[clientes4.cluster==1]"
   ]
  },
  {
   "cell_type": "code",
   "execution_count": null,
   "metadata": {},
   "outputs": [],
   "source": [
    "clientes_dummies.loc[:, 'cluster'] = X_t\n",
    "clientes_dummies.head()\n"
   ]
  },
  {
   "cell_type": "code",
   "execution_count": null,
   "metadata": {},
   "outputs": [],
   "source": [
    "# Verifica se X é um DataFrame e converte para array NumPy se necessário\n",
    "if isinstance(X, pd.DataFrame):\n",
    "    X = X.to_numpy()\n",
    "\n",
    "# Ajusta a criação e a previsão do modelo KMeans\n",
    "km = KMeans(n_clusters=5, max_iter=10_000, n_init=100, random_state=61658)\n",
    "X_t = km.fit_predict(X)\n",
    "\n",
    "# Atualiza o DataFrame clientes4 com os clusters\n",
    "clientes4 = clientes3.copy()\n",
    "clientes4['cluster'] = X_t\n",
    "\n",
    "# Cria o gráfico de dispersão\n",
    "plt.figure(figsize=(10, 6))\n",
    "\n",
    "# Plota os dados com os clusters\n",
    "plt.scatter(X[:, 0], X[:, 1], c=X_t, s=50, cmap='viridis', alpha=0.6, edgecolors='w')\n",
    "\n",
    "# Plota os centros dos clusters\n",
    "centers = km.cluster_centers_\n",
    "plt.scatter(centers[:, 0], centers[:, 1], c='black', s=200, alpha=0.75, marker='x')\n",
    "\n",
    "plt.title('Gráfico de Dispersão com Clusters')\n",
    "plt.xlabel('Feature 1')\n",
    "plt.ylabel('Feature 2')\n",
    "plt.colorbar(label='Cluster')\n",
    "\n",
    "plt.grid(True)\n",
    "plt.show()"
   ]
  },
  {
   "cell_type": "code",
   "execution_count": null,
   "metadata": {},
   "outputs": [],
   "source": [
    "# # separa clientes por cluster \n",
    "# saida = []\n",
    "\n",
    "# # separa clientes por cluster \n",
    "# for col in clientes4.drop('clus', axis=1).columns:\n",
    "#     for cl in np.sort(clientes4.clus.unique()):\n",
    "#         if clientes4.dtypes[col] == object:\n",
    "#             # vc = 100*clientes4.loc[clientes4.clus==cl,col].value_counts() / (clientes4.clus==cl).sum()\n",
    "#             vc = clientes4.loc[clientes4.clus==cl,col].value_counts() / (clientes4.clus==cl).sum()\n",
    "#             for cat,cnt in vc.reset_index().values:\n",
    "#                 # print(f'{cl:d};{col};{str(cat):s};{cnt:5.2f}%'.replace(',', '.'))\n",
    "#                 print(f'{cl:d};{col};{str(cat):s};{cnt:5.2f}'.replace(',', '.'))\n",
    "#                 saida.append([cl, col, str(cat), f'{cnt:5.2f}'])\n",
    "#         else:\n",
    "#             # print(f'{cl:d};{col};{clientes4.loc[clientes4.clus==cl,col].mean():.2f}%'.replace(',', '.'))\n",
    "#             print(f'{cl:d};{col};{clientes4.loc[clientes4.clus==cl,col].mean():.2f}'.replace(',', '.'))\n",
    "#             saida.append([cl, col, str(cat), f'{cnt:5.2f}'])\n",
    "\n",
    "# for col in clientes4.drop('clus', axis=1).columns:\n",
    "#     if clientes4.dtypes[col] == object:\n",
    "#         # vc = 100*clientes4.loc[:,col].value_counts() / (clientes4.shape[0])\n",
    "#         vc = clientes4.loc[:,col].value_counts() / (clientes4.shape[0])\n",
    "#         for cat,cnt in vc.reset_index().values:\n",
    "#             # print(f'All;{col};{str(cat):s};{cnt:5.2f}%'.replace(',', '.')) \n",
    "#             print(f'All;{col};{str(cat):s};{cnt:5.2f}'.replace(',', '.')) \n",
    "#             saida.append([cl, col, str(cat), f'{cnt:5.2f}'])\n",
    "#     else:\n",
    "#         # print(f'All;{col};{clientes4.loc[:,col].mean():.2f}%'.replace(',', '.'))\n",
    "#         print(f'All;{col};{clientes4.loc[:,col].mean():.2f}'.replace(',', '.'))\n",
    "#         saida.append([cl, col, str(cat), f'{cnt:5.2f}'])\n"
   ]
  },
  {
   "cell_type": "markdown",
   "metadata": {},
   "source": [
    "Alguns tratamentos"
   ]
  },
  {
   "cell_type": "code",
   "execution_count": null,
   "metadata": {},
   "outputs": [],
   "source": [
    "clienteFinal = clientes4"
   ]
  },
  {
   "cell_type": "code",
   "execution_count": null,
   "metadata": {},
   "outputs": [],
   "source": [
    "# clientes4['dividas'] = clientes4['endividamento'] < 1\n",
    "# clienteFinal.loc[:, 'endividamento_ativo'] = clienteFinal['endividamento'] < 1\n",
    "\n",
    "# Adiciona uma nova coluna 'condicao' que será True se 'endividamento' for maior que 'faturamento', caso contrário False\n",
    "# clienteFinal['DividaMaiorQFaturamento'] = clienteFinal['endividamento'] > clienteFinal['faturamentoBruto']\n",
    "\n",
    "clienteFinal.head()\n"
   ]
  },
  {
   "cell_type": "code",
   "execution_count": null,
   "metadata": {},
   "outputs": [],
   "source": [
    "# clienteFinal.loc[clienteFinal.endividamento_ativo==False]"
   ]
  },
  {
   "cell_type": "markdown",
   "metadata": {},
   "source": [
    "Analisar com gráficos para entender quais variaveis são importantes"
   ]
  },
  {
   "cell_type": "code",
   "execution_count": null,
   "metadata": {},
   "outputs": [],
   "source": [
    "# Salvando em Excel\n",
    "df_output = pd.DataFrame(clientes4, columns=['Cluster', 'Campo', 'Category/Value', 'Percentage/Mean'])\n",
    "\n",
    "clienteFinal.to_excel('saida.xlsx', index=False)"
   ]
  },
  {
   "cell_type": "code",
   "execution_count": null,
   "metadata": {},
   "outputs": [],
   "source": [
    "# # Salvando em CSV \n",
    "\n",
    "# with open('saida.csv', mode='w', newline='') as file:\n",
    "#     writer = csv.writer(file)\n",
    "#     writer.writerow(['Cluster', 'Campo', 'Category/Value', 'Percentage/Mean'])\n",
    "#     writer.writerows(clientes4)"
   ]
  },
  {
   "cell_type": "code",
   "execution_count": null,
   "metadata": {},
   "outputs": [],
   "source": [
    "# # Função para substituir valores com base no tipo de dado\n",
    "# def substituir_valor(valor):\n",
    "#     if isinstance(valor, str):\n",
    "#         return '-'  # Substitui por '-' se for string\n",
    "#     elif isinstance(valor, (int, float)):\n",
    "#         return 0  # Substitui por 0 se for numérico\n",
    "#     else:\n",
    "#         return valor\n",
    "\n",
    "# # Aplicar a função no DataFrame inteiro\n",
    "# solicitacoes1 = solicitacoes_distinct.applymap(substituir_valor)"
   ]
  },
  {
   "cell_type": "code",
   "execution_count": null,
   "metadata": {},
   "outputs": [],
   "source": [
    "solicitacoes_credito.head()\n",
    "\n",
    "# %%\n",
    "teste_clientes = solicitacoes_credito[['scorePontualidade', 'maiorAtraso']].groupby('maiorAtraso').max()\n",
    "# teste_clientes = solicitacoes_credito[['scorePontualidade', 'maiorAtraso']]\n",
    "teste_clientes2 = teste_clientes.drop_duplicates()\n",
    "\n",
    "teste_clientes2=teste_clientes2.loc[teste_clientes2.scorePontualidade==1]\n",
    "\n",
    "min_maiorAtraso = teste_clientes2.get('maiorAtraso', pd.Series([])).min()\n",
    "max_maiorAtraso = teste_clientes2.get('maiorAtraso', pd.Series([])).max()\n",
    "\n",
    "\n",
    "print(max_maiorAtraso, min_maiorAtraso)\n",
    "teste_clientes.describe()\n",
    "teste_clientes2"
   ]
  }
 ],
 "metadata": {
  "language_info": {
   "name": "python"
  }
 },
 "nbformat": 4,
 "nbformat_minor": 2
}
