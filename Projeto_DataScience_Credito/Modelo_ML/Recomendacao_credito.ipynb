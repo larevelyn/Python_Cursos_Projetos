{
 "cells": [
  {
   "cell_type": "code",
   "execution_count": 147,
   "metadata": {},
   "outputs": [],
   "source": [
    "import pandas as pd\n",
    "from sklearn.cluster import KMeans\n",
    "import requests \n",
    "import numpy as np\n",
    "from joblib import load\n"
   ]
  },
  {
   "cell_type": "code",
   "execution_count": 148,
   "metadata": {},
   "outputs": [],
   "source": [
    "# solicitacoes_credito = pd.read_excel('saidas/solicitacoes_credito_encoded.xlsx')\n",
    "solicitacoes_credito = pd.read_excel('saidas/solicitacoes_credito_clusters.xlsx')\n",
    "\n",
    "\n",
    "# Carregar o modelo KMeans salvo\n",
    "kmeans_model = load('saidas/Modelo_Kmeans.joblib')"
   ]
  },
  {
   "cell_type": "code",
   "execution_count": 149,
   "metadata": {},
   "outputs": [],
   "source": [
    "# # Carregar limites de crédito\n",
    "# solicitacoes_credito = pd.read_pickle('saidas/solicitacoes_credito_clusters.pkl')\n",
    "# solicitacoes_credito['credit_limit'] = 1000 * (solicitacoes_credito['score_atraso'] / solicitacoes_credito['score_atraso'].max())\n",
    "# credit_limits_by_cluster = solicitacoes_credito.groupby('cluster')['credit_limit'].mean().reset_index()\n",
    "# credit_limits_by_cluster.columns = ['cluster', 'recommended_credit_limit']\n",
    "# credit_limits_by_cluster.set_index('cluster', inplace=True)"
   ]
  },
  {
   "cell_type": "code",
   "execution_count": 150,
   "metadata": {},
   "outputs": [],
   "source": [
    "# def preprocess_customer_data(data):\n",
    "#     # Aqui você deve incluir o pré-processamento dos dados, como normalização e tratamento de dados ausentes\n",
    "#     return np.array([data])\n"
   ]
  },
  {
   "cell_type": "code",
   "execution_count": 151,
   "metadata": {},
   "outputs": [],
   "source": [
    "# def recommend_credit_limit(customer_data):\n",
    "#     # Pré-processar os dados do cliente\n",
    "#     preprocessed_data = preprocess_customer_data(customer_data)\n",
    "    \n",
    "#     # Prever o cluster do cliente usando o modelo carregado\n",
    "#     cluster = kmeans_model.predict(preprocessed_data)[0]\n",
    "    \n",
    "#     # Obter o limite de crédito para o cluster previsto\n",
    "#     recommended_limit = credit_limits_by_cluster[credit_limits_by_cluster['cluster'] == cluster]['recommended_credit_limit'].values[0]\n",
    "    \n",
    "#     return recommended_limit\n"
   ]
  },
  {
   "cell_type": "markdown",
   "metadata": {},
   "source": [
    "Entrada de novos clientes "
   ]
  },
  {
   "cell_type": "code",
   "execution_count": 152,
   "metadata": {},
   "outputs": [],
   "source": [
    "# Carregar a base de novos clientes do arquivo Excel\n",
    "novos_clientes = pd.read_excel('saidas/novos_clientes.xlsx')"
   ]
  },
  {
   "cell_type": "code",
   "execution_count": 153,
   "metadata": {},
   "outputs": [],
   "source": [
    "# Certificar-se de que a base de novos clientes tem as colunas necessárias\n",
    "expected_columns = [\n",
    "    'maiorAtraso', 'prazoMedioRecebimentoVendas', 'titulosEmAberto',\n",
    "    'valorSolicitado', 'status', 'valorAprovado', 'periodoBalanco',\n",
    "    'ativoCirculante', 'passivoCirculante', 'totalAtivo',\n",
    "    'totalPatrimonioLiquido', 'endividamento', 'duplicatasAReceber',\n",
    "    'estoque', 'faturamentoBruto', 'margemBruta', 'custos',\n",
    "    'intervaloFundacao', 'capitalSocial', 'limiteEmpresaAnaliseCredito',\n",
    "    'score_atraso'\n",
    "]"
   ]
  },
  {
   "cell_type": "code",
   "execution_count": 154,
   "metadata": {},
   "outputs": [],
   "source": [
    "# Garantir que todas as colunas esperadas estão presentes\n",
    "if not set(expected_columns).issubset(novos_clientes.columns):\n",
    "    raise ValueError(\"A base de novos clientes não contém todas as colunas esperadas.\")\n"
   ]
  },
  {
   "cell_type": "code",
   "execution_count": 155,
   "metadata": {},
   "outputs": [],
   "source": [
    "# Preencher possíveis valores ausentes se necessário (exemplo)\n",
    "novos_clientes.fillna(0, inplace=True)  # Ajuste conforme necessário\n",
    "\n",
    "# Converter colunas categóricas para numéricas\n",
    "# Por exemplo, convertendo a coluna 'status' para numérico\n",
    "if 'status' in novos_clientes.columns:\n",
    "    novos_clientes['status'] = novos_clientes['status'].apply(lambda x: 1 if x == 'Aprovado' else 0)\n",
    "\n",
    "# Selecionar apenas as colunas esperadas\n",
    "X_novos_clientes = novos_clientes[expected_columns].values\n"
   ]
  },
  {
   "cell_type": "code",
   "execution_count": 156,
   "metadata": {},
   "outputs": [
    {
     "name": "stderr",
     "output_type": "stream",
     "text": [
      "C:\\Users\\laris\\AppData\\Local\\Packages\\PythonSoftwareFoundation.Python.3.11_qbz5n2kfra8p0\\LocalCache\\local-packages\\Python311\\site-packages\\sklearn\\base.py:493: UserWarning: X does not have valid feature names, but KMeans was fitted with feature names\n",
      "  warnings.warn(\n"
     ]
    }
   ],
   "source": [
    "# Prever o cluster para cada novo cliente\n",
    "try:\n",
    "    clusters_novos_clientes = kmeans_model.predict(X_novos_clientes)\n",
    "except Exception as e:\n",
    "    print(f\"Erro ao prever clusters: {e}\")\n",
    "    clusters_novos_clientes = np.full(X_novos_clientes.shape[0], np.nan)  # Usar NaN para falhas\n"
   ]
  },
  {
   "cell_type": "code",
   "execution_count": 157,
   "metadata": {},
   "outputs": [],
   "source": [
    "# Calcular limites de crédito recomendados\n",
    "# Carregar limites de crédito recomendados por cluster\n",
    "solicitacoes_credito = pd.read_pickle('saidas/solicitacoes_credito_clusters.pkl')\n",
    "solicitacoes_credito['credit_limit'] = 1000 * (solicitacoes_credito['score_atraso'] / solicitacoes_credito['score_atraso'].max())\n",
    "credit_limits_by_cluster = solicitacoes_credito.groupby('cluster')['credit_limit'].mean().reset_index()\n",
    "credit_limits_by_cluster.columns = ['cluster', 'recommended_credit_limit']\n"
   ]
  },
  {
   "cell_type": "code",
   "execution_count": 158,
   "metadata": {},
   "outputs": [],
   "source": [
    "# Mapear limites de crédito para clusters\n",
    "credit_limit_map = credit_limits_by_cluster.set_index('cluster')['recommended_credit_limit'].to_dict()"
   ]
  },
  {
   "cell_type": "code",
   "execution_count": 159,
   "metadata": {},
   "outputs": [],
   "source": [
    "# Adicionar coluna de limite de crédito aos novos clientes\n",
    "novos_clientes['cluster'] = clusters_novos_clientes\n",
    "novos_clientes['credito_recomendado'] = novos_clientes['cluster'].map(credit_limit_map)"
   ]
  },
  {
   "cell_type": "code",
   "execution_count": 160,
   "metadata": {},
   "outputs": [],
   "source": [
    "novos_clientes.to_excel('saidas/recomendacao.xlsx')"
   ]
  },
  {
   "cell_type": "code",
   "execution_count": 161,
   "metadata": {},
   "outputs": [],
   "source": [
    "# # Função para recomendar limite de crédito com base no cluster\n",
    "# def recommend_credit_limit(customer_data, model, credit_limits_by_cluster):\n",
    "#     # Prever o cluster do cliente\n",
    "#     cluster = model.predict([customer_data])[0]\n",
    "    \n",
    "#     # Encontrar o limite de crédito recomendado para o cluster\n",
    "#     recommended_limit = credit_limits_by_cluster[credit_limits_by_cluster['cluster'] == cluster]['recommended_credit_limit'].values[0]"
   ]
  },
  {
   "cell_type": "code",
   "execution_count": 162,
   "metadata": {},
   "outputs": [],
   "source": [
    "# # Exemplo de cliente\n",
    "# # Observação: customer_data deve ter o mesmo formato e escala das features usadas no treinamento do modelo\n",
    "# customer_data = [0.5, 0.4, 0.3, 0.6, 0.7, 0.5, 0.4]  # Exemplo de dados normalizados do cliente\n",
    "# recommended_limit = recommend_credit_limit(customer_data, km, credit_limits_by_cluster)\n",
    "\n",
    "# print(f\"Recommended Credit Limit: {recommended_limit}\")\n",
    "\n",
    "# print(\"Limites de crédito recomendados por cluster:\")\n",
    "# print(credit_limits_by_cluster)"
   ]
  },
  {
   "cell_type": "code",
   "execution_count": 163,
   "metadata": {},
   "outputs": [],
   "source": [
    "# import pandas as pd\n",
    "# import numpy as np\n",
    "\n",
    "# # Definir a quantidade de novos clientes fictícios\n",
    "# num_novos_clientes = 10\n",
    "\n",
    "# # Criar uma base de novos clientes com os campos especificados\n",
    "# novos_clientes = pd.DataFrame({\n",
    "#     'maiorAtraso': np.random.randint(0, 60, num_novos_clientes),\n",
    "#     'prazoMedioRecebimentoVendas': np.random.randint(0, 120, num_novos_clientes),\n",
    "#     'titulosEmAberto': np.random.uniform(0, 500000, num_novos_clientes),\n",
    "#     'valorSolicitado': np.random.uniform(50000, 2000000, num_novos_clientes),\n",
    "#     'status': np.random.choice(['Aprovado', 'Reprovado', 'Em análise'], num_novos_clientes),\n",
    "#     'valorAprovado': np.random.uniform(50000, 1500000, num_novos_clientes),\n",
    "#     'periodoBalanco': np.random.randint(1, 12, num_novos_clientes),\n",
    "#     'ativoCirculante': np.random.uniform(1000000, 30000000, num_novos_clientes),\n",
    "#     'passivoCirculante': np.random.uniform(500000, 20000000, num_novos_clientes),\n",
    "#     'totalAtivo': np.random.uniform(1000000, 50000000, num_novos_clientes),\n",
    "#     'totalPatrimonioLiquido': np.random.uniform(500000, 40000000, num_novos_clientes),\n",
    "#     'endividamento': np.random.uniform(0, 1, num_novos_clientes),\n",
    "#     'duplicatasAReceber': np.random.uniform(0, 2000000, num_novos_clientes),\n",
    "#     'estoque': np.random.uniform(0, 1000000, num_novos_clientes),\n",
    "#     'faturamentoBruto': np.random.uniform(1000000, 100000000, num_novos_clientes),\n",
    "#     'margemBruta': np.random.uniform(-5000000, 50000000, num_novos_clientes),\n",
    "#     'custos': np.random.uniform(0, 50000000, num_novos_clientes),\n",
    "#     'intervaloFundacao': np.random.randint(1, 100, num_novos_clientes),\n",
    "#     'capitalSocial': np.random.uniform(10000, 5000000, num_novos_clientes),\n",
    "#     'limiteEmpresaAnaliseCredito': np.random.uniform(100000, 5000000, num_novos_clientes),\n",
    "#     'score_atraso': np.random.uniform(0, 1, num_novos_clientes)\n",
    "# })\n",
    "\n",
    "# # Exibir as primeiras linhas da nova base de dados fictícia\n",
    "# novos_clientes.to_excel('saidas/novos_clientes.xlsx')\n"
   ]
  },
  {
   "cell_type": "code",
   "execution_count": 164,
   "metadata": {},
   "outputs": [],
   "source": [
    "# Verificar os tipos de dados\n",
    "# print(solicitacoes_credito.dtypes)\n",
    "\n",
    "\n",
    "\n",
    "\n"
   ]
  }
 ],
 "metadata": {
  "kernelspec": {
   "display_name": "Python 3",
   "language": "python",
   "name": "python3"
  },
  "language_info": {
   "codemirror_mode": {
    "name": "ipython",
    "version": 3
   },
   "file_extension": ".py",
   "mimetype": "text/x-python",
   "name": "python",
   "nbconvert_exporter": "python",
   "pygments_lexer": "ipython3",
   "version": "3.11.9"
  }
 },
 "nbformat": 4,
 "nbformat_minor": 2
}
