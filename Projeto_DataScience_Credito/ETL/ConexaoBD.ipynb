{
 "cells": [
  {
   "cell_type": "code",
   "execution_count": 61,
   "metadata": {},
   "outputs": [
    {
     "name": "stdout",
     "output_type": "stream",
     "text": [
      "Conexão OK\n"
     ]
    }
   ],
   "source": [
    "import pyodbc\n",
    "import pandas as pd\n",
    "from tabulate import tabulate\n",
    "dados_conexao = (\n",
    "    \"Driver={ODBC Driver 17 for SQL Server};\"\n",
    "    \"Server=DESKTOP-PJGTBM4;\"          # Nome do servidor local\n",
    "    \"Database=PythonSQL;\"               # Nome do banco de dados\n",
    "    \"Trusted_Connection=yes;\"           # Autenticação do Windows\n",
    ")\n",
    "\n",
    "conexao = pyodbc.connect(dados_conexao)\n",
    "print(\"Conexão OK\")\n"
   ]
  },
  {
   "cell_type": "code",
   "execution_count": 8,
   "metadata": {},
   "outputs": [],
   "source": [
    "# Responsável por executar as queries\n",
    "cursor = conexao.cursor()"
   ]
  },
  {
   "cell_type": "code",
   "execution_count": 31,
   "metadata": {},
   "outputs": [],
   "source": [
    "id = 3\n",
    "cliente = \"Lira Python\"\n",
    "produto = \"Carro\"\n",
    "data = \"25/08/2021\"\n",
    "preco = \"5000\"\n",
    "quantidade = 1"
   ]
  },
  {
   "cell_type": "code",
   "execution_count": 32,
   "metadata": {},
   "outputs": [],
   "source": [
    "comando = f\"\"\"INSERT INTO Vendas(id_venda, cliente, produto, data_venda, preco, quantidade)\n",
    "VALUES\n",
    "    ({id}, '{cliente}', '{produto}', '{data}', {preco}, {quantidade}) \"\"\""
   ]
  },
  {
   "cell_type": "code",
   "execution_count": 33,
   "metadata": {},
   "outputs": [],
   "source": [
    "# Executa o código acima\n",
    "cursor.execute(comando)\n",
    "# É necessário apenas se o comando que está sendo executado faz alguma edição\n",
    "cursor.commit()"
   ]
  },
  {
   "cell_type": "code",
   "execution_count": 51,
   "metadata": {},
   "outputs": [
    {
     "name": "stdout",
     "output_type": "stream",
     "text": [
      "[(1, 'Lira', 'PC', datetime.date(2021, 2, 15), Decimal('8000.00'), 1), (1, 'Lira', 'PC', datetime.date(2021, 2, 15), Decimal('8000.00'), 1), (3, 'Lira Python', 'Carro', datetime.date(2021, 8, 25), Decimal('5000.00'), 1), (2, 'Alon', 'Iphone', datetime.date(2021, 8, 25), Decimal('6000.00'), 1)]\n"
     ]
    }
   ],
   "source": [
    "# Consulta no banco de dados \n",
    "select = f\"\"\"SELECT * FROM Vendas\"\"\"\n",
    "cursor.execute(select)\n",
    "\n",
    "# fetchall armazena o resultado da consulta\n",
    "resultados = cursor.fetchall()\n",
    "print(resultados)\n",
    "\n",
    "# Fechar a conexão\n",
    "conexao.close()\n"
   ]
  },
  {
   "cell_type": "code",
   "execution_count": 71,
   "metadata": {},
   "outputs": [
    {
     "data": {
      "text/html": [
       "<div>\n",
       "<style scoped>\n",
       "    .dataframe tbody tr th:only-of-type {\n",
       "        vertical-align: middle;\n",
       "    }\n",
       "\n",
       "    .dataframe tbody tr th {\n",
       "        vertical-align: top;\n",
       "    }\n",
       "\n",
       "    .dataframe thead th {\n",
       "        text-align: right;\n",
       "    }\n",
       "</style>\n",
       "<table border=\"1\" class=\"dataframe\">\n",
       "  <thead>\n",
       "    <tr style=\"text-align: right;\">\n",
       "      <th></th>\n",
       "      <th>id</th>\n",
       "      <th>cliente</th>\n",
       "      <th>produto</th>\n",
       "      <th>data_venda</th>\n",
       "      <th>preco</th>\n",
       "      <th>quantidade</th>\n",
       "    </tr>\n",
       "  </thead>\n",
       "  <tbody>\n",
       "    <tr>\n",
       "      <th>0</th>\n",
       "      <td>1</td>\n",
       "      <td>Lira</td>\n",
       "      <td>PC</td>\n",
       "      <td>2021-02-15</td>\n",
       "      <td>8000.00</td>\n",
       "      <td>1</td>\n",
       "    </tr>\n",
       "    <tr>\n",
       "      <th>1</th>\n",
       "      <td>1</td>\n",
       "      <td>Lira</td>\n",
       "      <td>PC</td>\n",
       "      <td>2021-02-15</td>\n",
       "      <td>8000.00</td>\n",
       "      <td>1</td>\n",
       "    </tr>\n",
       "    <tr>\n",
       "      <th>2</th>\n",
       "      <td>3</td>\n",
       "      <td>Lira Python</td>\n",
       "      <td>Carro</td>\n",
       "      <td>2021-08-25</td>\n",
       "      <td>5000.00</td>\n",
       "      <td>1</td>\n",
       "    </tr>\n",
       "    <tr>\n",
       "      <th>3</th>\n",
       "      <td>2</td>\n",
       "      <td>Alon</td>\n",
       "      <td>Iphone</td>\n",
       "      <td>2021-08-25</td>\n",
       "      <td>6000.00</td>\n",
       "      <td>1</td>\n",
       "    </tr>\n",
       "  </tbody>\n",
       "</table>\n",
       "</div>"
      ],
      "text/plain": [
       "   id      cliente produto  data_venda    preco  quantidade\n",
       "0   1         Lira      PC  2021-02-15  8000.00           1\n",
       "1   1         Lira      PC  2021-02-15  8000.00           1\n",
       "2   3  Lira Python   Carro  2021-08-25  5000.00           1\n",
       "3   2         Alon  Iphone  2021-08-25  6000.00           1"
      ]
     },
     "metadata": {},
     "output_type": "display_data"
    }
   ],
   "source": [
    "# Percorre a variavel resultado, colocando cada linha dentro de uma lista individual e \n",
    "# depois armazenando todas em  uma grande lista chamada resultado_listas\n",
    "resultados_listas = [list(linha) for linha in resultados]\n",
    "# Cria o dataframe e nomeia o cabeçalho\n",
    "resultados_df = pd.DataFrame(resultados_listas, columns=['id', 'cliente', 'produto', 'data_venda', 'preco', 'quantidade'])\n",
    "\n",
    "display(resultados_df)"
   ]
  }
 ],
 "metadata": {
  "kernelspec": {
   "display_name": "Python 3",
   "language": "python",
   "name": "python3"
  },
  "language_info": {
   "codemirror_mode": {
    "name": "ipython",
    "version": 3
   },
   "file_extension": ".py",
   "mimetype": "text/x-python",
   "name": "python",
   "nbconvert_exporter": "python",
   "pygments_lexer": "ipython3",
   "version": "3.11.9"
  }
 },
 "nbformat": 4,
 "nbformat_minor": 2
}
